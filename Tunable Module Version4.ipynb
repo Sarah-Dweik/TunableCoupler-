{
 "cells": [
  {
   "cell_type": "code",
   "execution_count": 1,
   "id": "765bcb4b-a05f-4133-a67e-28e755b1f823",
   "metadata": {},
   "outputs": [],
   "source": [
    "#imports\n",
    "from qiskit_metal import draw, Dict, designs, MetalGUI\n",
    "from qiskit_metal.qlibrary.sample_shapes.n_square_spiral import NSquareSpiral\n",
    "from qiskit_metal.qlibrary.qubits.transmon_pocket import TransmonPocket\n",
    "from qiskit_metal.qlibrary.qubits.JJ_Manhattan import jj_manhattan\n",
    "from qiskit_metal.qlibrary.tlines.straight_path import RouteStraight\n",
    "from qiskit_metal.qlibrary.terminations.open_to_ground import OpenToGround\n",
    "import numpy as np"
   ]
  },
  {
   "cell_type": "code",
   "execution_count": 2,
   "id": "dfaee748-46a1-43b6-8ea1-9f29c6c5f5e7",
   "metadata": {},
   "outputs": [],
   "source": [
    "# Design & GUI\n",
    "design = designs.DesignPlanar()  # or any other design class you're using\n",
    "design.overwrite_enabled = True\n",
    "gui = MetalGUI(design)"
   ]
  },
  {
   "cell_type": "code",
   "execution_count": 3,
   "id": "07ba096c-c433-4df9-bfe5-929f3fa99828",
   "metadata": {},
   "outputs": [],
   "source": [
    "design.variables['cpw_width'] = '0.5um'\n",
    "design.variables['cpw_gap'] = '0.3um'"
   ]
  },
  {
   "cell_type": "code",
   "execution_count": 4,
   "id": "acd441ef-1051-4d58-92c6-bee798ccae92",
   "metadata": {},
   "outputs": [
    {
     "data": {
      "text/html": [
       "\n",
       "    <h1 style=\"\n",
       "        background: #12c2e9;  /* fallback for old browsers */\n",
       "        background: -webkit-linear-gradient(to right, #d4418e 0%, #0652c5 74%);  /* Chrome 10-25, Safari 5.1-6 */\n",
       "        background: linear-gradient(315deg, #d4418e 0%, #0652c5 74%); /* W3C, IE 10+/ Edge, Firefox 16+, Chrome 26+, Opera 12+, Safari 7+ */\n",
       "        margin-top: 50px;\n",
       "        border-style: outset;\n",
       "        padding-top:100px;\n",
       "        padding-bottom:50px;\n",
       "        padding-left:25px;\n",
       "        color: white;\n",
       "    \"> Designing The Layout <h1>\n",
       "        "
      ],
      "text/plain": [
       "<IPython.core.display.HTML object>"
      ]
     },
     "metadata": {},
     "output_type": "display_data"
    }
   ],
   "source": [
    "%metal_heading Designing The Layout"
   ]
  },
  {
   "cell_type": "code",
   "execution_count": 5,
   "id": "ea66f842-9377-4a74-9866-75cb731760bb",
   "metadata": {},
   "outputs": [],
   "source": [
    "# Mutual inductors\n",
    "ops = {\n",
    "    'n': '5',\n",
    "    'width': '0.5um',\n",
    "    'radius': '5um',\n",
    "    'gap': '0.2um',\n",
    "    'pos_x': '0.60mm',\n",
    "    'pos_y': '2.2mm',\n",
    "    'orientation': '0',\n",
    "    'subtract': 'False'}\n",
    "spiralm1 = NSquareSpiral(design, 'spiralm1', ops)\n",
    "spiralm2 = NSquareSpiral(design, 'spiralm2', ops)\n",
    "spiralm2.options.pos_x ='0.62mm'"
   ]
  },
  {
   "cell_type": "code",
   "execution_count": 6,
   "id": "93176914-58ce-4a8a-812d-06dc20419801",
   "metadata": {},
   "outputs": [],
   "source": [
    "gui.rebuild()\n",
    "gui.autoscale()"
   ]
  },
  {
   "cell_type": "code",
   "execution_count": 7,
   "id": "310afff6-43c6-42ea-82d1-c01b8e7ef8ff",
   "metadata": {},
   "outputs": [],
   "source": [
    "points1= np.array([[0.6138, 2.1940],[0.6142, 2.1940]])\n",
    "points2= np.array([[0.5938, 2.1940],[0.5942, 2.1940]])\n",
    "\n",
    "spiralm1.add_pin('a', points= points1, width=0.0000005, input_as_norm = False)\n",
    "spiralm2.add_pin('b', points= points2, width=0.0000005, input_as_norm = False)"
   ]
  },
  {
   "cell_type": "code",
   "execution_count": 8,
   "id": "4070a28d-bde1-4b55-843a-dc6ebd1fc317",
   "metadata": {},
   "outputs": [],
   "source": [
    "options = Dict(\n",
    "        pin_inputs=Dict(\n",
    "            start_pin=Dict(\n",
    "                component='spiralm1',\n",
    "                pin='a'),\n",
    "            end_pin=Dict(\n",
    "                component='spiralm2',\n",
    "                pin='b'))\n",
    "        )\n",
    "cpw4 = RouteStraight(design, 'cpw4', options=options)"
   ]
  },
  {
   "cell_type": "code",
   "execution_count": 9,
   "id": "dd30ba8d-b259-4cf7-bba9-2c272e0c79e9",
   "metadata": {},
   "outputs": [],
   "source": [
    "gui.rebuild()\n",
    "gui.autoscale()"
   ]
  },
  {
   "cell_type": "code",
   "execution_count": 10,
   "id": "2a80e84f-e041-4a2f-96aa-6b91611814ea",
   "metadata": {},
   "outputs": [],
   "source": [
    "#series Indcutors\n",
    "ops2 = {\n",
    "    'n': '12',\n",
    "    'width': '0.5um',\n",
    "    'radius': '5um',\n",
    "    'gap': '0.2um',\n",
    "    'pos_x': '0.67mm',\n",
    "    'pos_y': '2.2mm',\n",
    "    'orientation': '0',\n",
    "    'subtract': 'False'}\n",
    "spiralS1 = NSquareSpiral(design, 'spiralS1', ops2)\n",
    "spiralS2 = NSquareSpiral(design, 'spiralS2', ops2)\n",
    "spiralS2.options.pos_x = '0.55mm'"
   ]
  },
  {
   "cell_type": "code",
   "execution_count": 11,
   "id": "58fd3f63-9231-49c3-85b4-ae9a3ba08276",
   "metadata": {},
   "outputs": [],
   "source": [
    "gui.rebuild()\n",
    "gui.autoscale()"
   ]
  },
  {
   "cell_type": "code",
   "execution_count": 12,
   "id": "ca60f8d1-e4bb-4993-a637-52ee78dbe0e2",
   "metadata": {},
   "outputs": [],
   "source": [
    "#pin to route to the ground \n",
    "ops = {\n",
    "    'width': '0.41um',            # The width of the CPW terminating to ground\n",
    "    'gap': '0.37um',               # The gap of the CPW\n",
    "    'termination_gap': '0.37um'    # The length of dielectric from the end of the CPW center trace to the ground\n",
    "}\n",
    "\n",
    "otg22 = OpenToGround(design, 'open2', options=dict(pos_x='0.6275mm',  pos_y='2.2000mm', orientation='180',**ops))# right to m1\n",
    "otg33 = OpenToGround(design, 'open3', options=dict(pos_x='0.5920mm',  pos_y='2.2000mm', orientation='180',**ops))# left to m2\n",
    "otg44 = OpenToGround(design, 'open4', options=dict(pos_x='0.5620mm',  pos_y='2.2000mm', orientation='180',**ops))# right to S2\n",
    "otg55 = OpenToGround(design, 'open5', options=dict(pos_x='0.6850mm',  pos_y='2.2000mm', orientation='180',**ops))# right to S1\n"
   ]
  },
  {
   "cell_type": "code",
   "execution_count": 13,
   "id": "713367ce-1da7-4b5b-b0a2-540b4c4fb710",
   "metadata": {},
   "outputs": [],
   "source": [
    "#Elements connections\n",
    "points3= np.array([[0.6175, 2.1973],[0.6175, 2.1978]])\n",
    "Spoint1= np.array([[0.6588, 2.1891],[0.6593, 2.1891]])\n",
    "\n",
    "spiralm1.add_pin('c', points= points3, width=0.0000005, input_as_norm = False)\n",
    "spiralS1.add_pin('A', points= Spoint1, width=0.0000005, input_as_norm = False)\n",
    "\n",
    "#Ground Connection \n",
    "SgorundPoint1= np.array([[0.6805, 2.2000],[0.6805, 2.1998]])\n",
    "groundPoints3= np.array([[0.6255, 2.2000],[0.6256, 2.1998]])\n",
    "\n",
    "spiralm1.add_pin('groundm1', points= groundPoints3, width=0.0000005, input_as_norm = False)\n",
    "spiralS1.add_pin('groundS1', points= SgorundPoint1, width=0.0000005, input_as_norm = False)\n"
   ]
  },
  {
   "cell_type": "code",
   "execution_count": 14,
   "id": "7feadb56-f5f4-4205-aa81-0aa10aa1afed",
   "metadata": {},
   "outputs": [],
   "source": [
    "options = Dict(\n",
    "        pin_inputs=Dict(\n",
    "            start_pin=Dict(\n",
    "                component='spiralm1',\n",
    "                pin='c'),\n",
    "            end_pin=Dict(\n",
    "                component='spiralS1',\n",
    "                pin='A'))\n",
    "        )\n",
    "cpw5 = RouteStraight(design,'cpw5', options=options)"
   ]
  },
  {
   "cell_type": "code",
   "execution_count": 15,
   "id": "50e758a5-21b5-4098-a531-1355d19fd1c5",
   "metadata": {},
   "outputs": [],
   "source": [
    "options = Dict(\n",
    "        pin_inputs=Dict(\n",
    "            start_pin=Dict(\n",
    "                component='spiralm1',\n",
    "                pin='groundm1'),\n",
    "            end_pin=Dict(\n",
    "                component='open2',\n",
    "                pin='open'))\n",
    "        )\n",
    "cpwGround1 = RouteStraight(design,'cpwGround1', options=options)"
   ]
  },
  {
   "cell_type": "code",
   "execution_count": 16,
   "id": "0a5c72dc-0cff-4ae2-985d-b2751a0bca31",
   "metadata": {},
   "outputs": [],
   "source": [
    "options = Dict(\n",
    "        pin_inputs=Dict(\n",
    "            start_pin=Dict(\n",
    "                component='spiralS1',\n",
    "                pin='groundS1'),\n",
    "            end_pin=Dict(\n",
    "                component='open5',\n",
    "                pin='open'))\n",
    "        )\n",
    "cpwGround2 = RouteStraight(design,'cpwGround2', options=options)"
   ]
  },
  {
   "cell_type": "code",
   "execution_count": 17,
   "id": "36fd0924-6545-466a-9645-4bcfe964cc06",
   "metadata": {},
   "outputs": [],
   "source": [
    "gui.rebuild()\n",
    "gui.autoscale()"
   ]
  },
  {
   "cell_type": "code",
   "execution_count": 18,
   "id": "44576921-70a4-42c2-a919-c3189a36419c",
   "metadata": {},
   "outputs": [],
   "source": [
    "#Elements Connection\n",
    "points4= np.array([[0.5975, 2.1973],[0.5975, 2.1978]])\n",
    "Spoint2= np.array([[0.5393, 2.1891],[0.5389, 2.1891]])\n",
    "\n",
    "spiralm2.add_pin('d', points= points4, width=0.0000005, input_as_norm = False)\n",
    "spiralS2.add_pin('B', points= Spoint2, width=0.0000005, input_as_norm = False)\n",
    "\n",
    "#Ground Connection \n",
    "SgorundPoint2= np.array([[0.5605, 2.2000],[0.5604, 2.1997]])\n",
    "groundPoints4= np.array([[0.5938, 2.2000],[0.5938, 2.1998]])\n",
    "\n",
    "spiralm2.add_pin('groundm2', points= groundPoints4, width=0.0000005, input_as_norm = False)\n",
    "spiralS2.add_pin('groundS2', points= SgorundPoint2, width=0.0000005, input_as_norm = False)"
   ]
  },
  {
   "cell_type": "code",
   "execution_count": 19,
   "id": "d48457a0-eb56-4c87-b4f5-60027e66dc9b",
   "metadata": {},
   "outputs": [],
   "source": [
    "options = Dict(\n",
    "        pin_inputs=Dict(\n",
    "            start_pin=Dict(\n",
    "                component='spiralm2',\n",
    "                pin='d'),\n",
    "            end_pin=Dict(\n",
    "                component='spiralS2',\n",
    "                pin='B'))\n",
    "        )\n",
    "cpw7 = RouteStraight(design,'cpw7', options=options)"
   ]
  },
  {
   "cell_type": "code",
   "execution_count": 20,
   "id": "9794178a-5516-49f8-b5a4-71eafa4e4c3a",
   "metadata": {},
   "outputs": [],
   "source": [
    "options = Dict(\n",
    "        pin_inputs=Dict(\n",
    "            start_pin=Dict(\n",
    "                component='spiralm2',\n",
    "                pin='groundm2'),\n",
    "            end_pin=Dict(\n",
    "                component='open3',\n",
    "                pin='open'))\n",
    "        )\n",
    "cpwGround3 = RouteStraight(design,'cpwGround3', options=options)"
   ]
  },
  {
   "cell_type": "code",
   "execution_count": 21,
   "id": "ebf872d0-0e1d-472a-ae85-a42627fa9967",
   "metadata": {},
   "outputs": [],
   "source": [
    "options = Dict(\n",
    "        pin_inputs=Dict(\n",
    "            start_pin=Dict(\n",
    "                component='spiralS2',\n",
    "                pin='groundS2'),\n",
    "            end_pin=Dict(\n",
    "                component='open4',\n",
    "                pin='open'))\n",
    "        )\n",
    "cpwGround4 = RouteStraight(design,'cpwGround4', options=options)"
   ]
  },
  {
   "cell_type": "code",
   "execution_count": 22,
   "id": "e220cf38-b221-4efe-8ad5-dd3c9cb297a3",
   "metadata": {},
   "outputs": [],
   "source": [
    "gui.rebuild()\n",
    "gui.autoscale()"
   ]
  },
  {
   "cell_type": "code",
   "execution_count": 23,
   "id": "6e461454-994e-400b-9633-f8bb410c3b9c",
   "metadata": {},
   "outputs": [],
   "source": [
    "#Josephson junction\n",
    "\n",
    "MYOPTIONS = {\n",
    "    'pos_x'              : '0.6040mm',                      # 0.65 / 5\n",
    "    'pos_y'              : '2.1760mm',                    # 2.2mm / 5\n",
    "    'orientation'        : '0.0',                       \n",
    "    'chip'               : 'main',                     \n",
    "    'layer'              : '1',                         \n",
    "    'JJ_pad_lower_width' : '5um',                       # 25um / 5\n",
    "    'JJ_pad_lower_height': '2um',                       # 10um / 5\n",
    "    'JJ_pad_lower_pos_x' : '0',                         \n",
    "    'JJ_pad_lower_pos_y' : '0',                         \n",
    "    'finger_lower_width' : '0.2um',                     # 1um / 5\n",
    "    'finger_lower_height': '4um',                       # 20um / 5\n",
    "    'extension'          : '0.2um'                      # 1um / 5\n",
    "}\n",
    "\n",
    "jj2 = jj_manhattan(design, 'JJ2', options=MYOPTIONS)"
   ]
  },
  {
   "cell_type": "code",
   "execution_count": 24,
   "id": "4f9d78eb-99cc-43a0-a16a-ddaa6f5ea9d0",
   "metadata": {},
   "outputs": [],
   "source": [
    "# Transmon Qubits to be coupled \n",
    "\n",
    "transmon_options2 = dict(\n",
    "       connection_pads=dict(\n",
    "        a =dict(\n",
    "            loc_W=-1, \n",
    "            loc_H=+1, \n",
    "            pad_width='7um',  # Reduced width\n",
    "            pad_height='2um',  # Reduced height\n",
    "            pad_gap = '0.6um',\n",
    "            pocket_extent= '0.0um',\n",
    "            pad_cpw_shift ='1um',\n",
    "            pocket_rise= '0.0um',\n",
    "            cpw_extend= '40um'#ow far up or downrelative to the center of the transmon should we elevate the cpw connection point on the ground plane\n",
    "            \n",
    "        )\n",
    "        \n",
    "    ),\n",
    "    pad_gap='1.7um',  \n",
    "    inductor_width='1.11um',  \n",
    "    pad_width='25.3um',  \n",
    "    pad_height='5um',  \n",
    "    pocket_width='39.2um',  \n",
    "    pocket_height='39.2um'\n",
    ")\n",
    "# Create the TransmonPocket qubit\n",
    "q4 = TransmonPocket(design, 'Q4', options=transmon_options2)\n",
    "\n",
    "# Set the position for the qubit\n",
    "q4.options.pos_x = '0.72mm'\n",
    "q4.options.pos_y = '2.2mm'\n",
    "\n"
   ]
  },
  {
   "cell_type": "code",
   "execution_count": 25,
   "id": "ce554725-bb48-4b77-ba05-5255d6d92047",
   "metadata": {},
   "outputs": [],
   "source": [
    "gui.rebuild()\n",
    "gui.autoscale()"
   ]
  },
  {
   "cell_type": "code",
   "execution_count": 26,
   "id": "717c57d7-68a1-4b2d-b64d-7f3b0c71a343",
   "metadata": {},
   "outputs": [],
   "source": [
    "SinnerArray1 = np.array([[0.6675, 2.1973],[0.6675, 2.1978]])\n",
    "spiralS1.add_pin('RightTSPin', points= SinnerArray1, width=0.0000005, input_as_norm = False)\n",
    "options = Dict(\n",
    "        pin_inputs=Dict(\n",
    "            start_pin=Dict(\n",
    "                component='Q4',\n",
    "                pin='a'),\n",
    "            end_pin=Dict(\n",
    "                component='spiralS1',\n",
    "                pin='RightTSPin'))\n",
    "        )\n",
    "cpw1 = RouteStraight(design, 'cpw1',options=options)"
   ]
  },
  {
   "cell_type": "code",
   "execution_count": 27,
   "id": "06f87b3e-1482-42e8-b8d3-03e7143ae60f",
   "metadata": {},
   "outputs": [],
   "source": [
    "gui.rebuild()\n",
    "gui.autoscale()"
   ]
  },
  {
   "cell_type": "code",
   "execution_count": 28,
   "id": "a9785f4d-3208-442a-8bf4-4648df2a322a",
   "metadata": {},
   "outputs": [],
   "source": [
    "transmon_options3 = dict(\n",
    "       connection_pads=dict(\n",
    "        b =dict(\n",
    "            loc_W=+1, \n",
    "            loc_H=+1, \n",
    "            pad_width='7um',  # Reduced width\n",
    "            pad_height='2um',  # Reduced height\n",
    "            pad_gap = '0.6um',\n",
    "            pocket_extent= '0.0um',\n",
    "            pad_cpw_shift ='1um',\n",
    "            pocket_rise= '0.0um',\n",
    "            cpw_extend= '20um'#ow far up or downrelative to the center of the transmon should we elevate the cpw connection point on the ground plane\n",
    "\n",
    "            \n",
    "        )\n",
    "        \n",
    "    ),\n",
    "    pad_gap='1.7um',  \n",
    "    inductor_width='1.11um',  \n",
    "    pad_width='25.3um',  \n",
    "    pad_height='5um',  \n",
    "    pocket_width='39.2um',  \n",
    "    pocket_height='39.2um'\n",
    ")\n",
    "\n",
    "\n",
    "q5 = TransmonPocket(design, 'Q5', options=transmon_options3)\n",
    "q5.options.pos_x = '0.50mm'\n",
    "q5.options.pos_y = '2.2mm'\n"
   ]
  },
  {
   "cell_type": "code",
   "execution_count": 29,
   "id": "9f7969ec-2e83-4012-afcb-07ceed5a4a5b",
   "metadata": {},
   "outputs": [],
   "source": [
    "gui.rebuild()\n",
    "gui.autoscale()"
   ]
  },
  {
   "cell_type": "code",
   "execution_count": 30,
   "id": "77a5582b-1962-4dff-9eac-8dad02e1d9c2",
   "metadata": {},
   "outputs": [],
   "source": [
    "SinnerArray2 = np.array([[0.5475, 2.1973],[0.5475, 2.1978]])\n",
    "spiralS2.add_pin('LeftTSPin', points= SinnerArray2, width=0.0000005, input_as_norm = False)\n",
    "options = Dict(\n",
    "        pin_inputs=Dict(\n",
    "            start_pin=Dict(\n",
    "                component='Q5',\n",
    "                pin='b'),\n",
    "            end_pin=Dict(\n",
    "                component='spiralS2',\n",
    "                pin='LeftTSPin'))\n",
    "        )\n",
    "cpw2 = RouteStraight(design,'cpw2', options=options)"
   ]
  },
  {
   "cell_type": "code",
   "execution_count": 31,
   "id": "1ace4651-8f93-4dee-a34b-d4c3c04f46af",
   "metadata": {},
   "outputs": [],
   "source": [
    "gui.rebuild()\n",
    "gui.autoscale()"
   ]
  },
  {
   "cell_type": "code",
   "execution_count": 32,
   "id": "95e6fbf6-f37d-489f-a928-65820d2b697a",
   "metadata": {},
   "outputs": [],
   "source": [
    "JuntionPin1 = np.array([[0.6109, 2.1841],[0.6113, 2.1841]])\n",
    "JuntionPin2 = np.array([[0.6063, 2.1760],[0.6067, 2.1760]])\n",
    "\n",
    "ops = {\n",
    "    'width': '0.41um',            # The width of the CPW terminating to ground\n",
    "    'gap': '0.37um',               # The gap of the CPW\n",
    "    'termination_gap': '0.37um'    # The length of dielectric from the end of the CPW center trace to the ground\n",
    "}\n",
    "\n",
    "otg11 = OpenToGround(design, 'open1i', options=dict(pos_x='0.6064mm',  pos_y='2.1749mm', orientation='180',**ops))\n",
    "\n",
    "jj2.add_pin('jjCoupler', points= JuntionPin1, width=0.0000005, input_as_norm = False)\n",
    "jj2.add_pin('jjGround', points= JuntionPin2, width=0.0000005, input_as_norm = False)"
   ]
  },
  {
   "cell_type": "code",
   "execution_count": 33,
   "id": "f29fa1eb-3f6f-473f-a9b6-f176ee189e12",
   "metadata": {},
   "outputs": [],
   "source": [
    "#Connect the junction to the ground\n",
    "options = Dict(\n",
    "        pin_inputs=Dict(\n",
    "            start_pin=Dict(\n",
    "                component='JJ2',\n",
    "                pin='jjGround'),\n",
    "            end_pin=Dict(\n",
    "                component='open1i',\n",
    "                pin='open'))\n",
    "        )"
   ]
  },
  {
   "cell_type": "code",
   "execution_count": 34,
   "id": "ff4ce748-7a8a-49d0-9aef-6164414536e1",
   "metadata": {},
   "outputs": [],
   "source": [
    "gui.rebuild()\n",
    "gui.autoscale()"
   ]
  },
  {
   "cell_type": "code",
   "execution_count": 35,
   "id": "ae194820-2d96-4f82-824d-8181dae70ba7",
   "metadata": {},
   "outputs": [],
   "source": [
    "RoutePin2 = np.array([[0.6108, 2.1940],[0.6106, 2.1940]])\n",
    "cpw4.add_pin('couplerJunctionPin', points= RoutePin2, width=0.0000005, input_as_norm = False)\n"
   ]
  },
  {
   "cell_type": "code",
   "execution_count": 36,
   "id": "126e061a-2b9f-49e3-b0d7-18c132626a50",
   "metadata": {},
   "outputs": [],
   "source": [
    "#Connect the junction to the inductors\n",
    "options = Dict(\n",
    "        pin_inputs=Dict(\n",
    "            start_pin=Dict(\n",
    "                component='JJ2',\n",
    "                pin='jjCoupler'),\n",
    "            end_pin=Dict(\n",
    "                component='cpw4',\n",
    "                pin='couplerJunctionPin'))\n",
    "        )\n",
    "cpw6 = RouteStraight(design,'cpw6', options=options)"
   ]
  },
  {
   "cell_type": "code",
   "execution_count": 37,
   "id": "6adee7d3-d388-4b66-a4ba-e36c14c5a79d",
   "metadata": {},
   "outputs": [],
   "source": [
    "gui.rebuild()\n",
    "gui.autoscale()"
   ]
  },
  {
   "cell_type": "code",
   "execution_count": 36,
   "id": "e14a8f57-7890-496b-bc33-2d8b83f0655a",
   "metadata": {},
   "outputs": [
    {
     "data": {
      "text/html": [
       "\n",
       "    <h1 style=\"\n",
       "        background: #12c2e9;  /* fallback for old browsers */\n",
       "        background: -webkit-linear-gradient(to right, #d4418e 0%, #0652c5 74%);  /* Chrome 10-25, Safari 5.1-6 */\n",
       "        background: linear-gradient(315deg, #d4418e 0%, #0652c5 74%); /* W3C, IE 10+/ Edge, Firefox 16+, Chrome 26+, Opera 12+, Safari 7+ */\n",
       "        margin-top: 50px;\n",
       "        border-style: outset;\n",
       "        padding-top:100px;\n",
       "        padding-bottom:50px;\n",
       "        padding-left:25px;\n",
       "        color: white;\n",
       "    \"> Analysis <h1>\n",
       "        "
      ],
      "text/plain": [
       "<IPython.core.display.HTML object>"
      ]
     },
     "metadata": {},
     "output_type": "display_data"
    }
   ],
   "source": [
    "%metal_heading Analysis"
   ]
  },
  {
   "cell_type": "code",
   "execution_count": 39,
   "id": "e08b1ece-0c88-4974-adf6-6c4a9e1f054a",
   "metadata": {},
   "outputs": [],
   "source": [
    "cpw1.options.hfss_wire_bonds = True\n",
    "cpw2.options.hfss_wire_bonds = True\n",
    "cpw4.options.hfss_wire_bonds = True\n",
    "cpw5.options.hfss_wire_bonds = True\n",
    "cpw6.options.hfss_wire_bonds = True\n",
    "cpw7.options.hfss_wire_bonds = True"
   ]
  },
  {
   "cell_type": "code",
   "execution_count": 43,
   "id": "9524042a-aebf-4c00-a668-d152104e0bf0",
   "metadata": {},
   "outputs": [],
   "source": [
    "q4.options.hfss_wire_bonds = True\n",
    "q5.options.hfss_wire_bonds = True"
   ]
  },
  {
   "cell_type": "markdown",
   "id": "dcf8e20d-21c8-4280-b999-0a0e5f399999",
   "metadata": {},
   "source": [
    "LOM"
   ]
  },
  {
   "cell_type": "code",
   "execution_count": null,
   "id": "6e95aff9-2b4b-4b77-8416-76fe07ba0247",
   "metadata": {},
   "outputs": [],
   "source": [
    "#Extract general parameters (Anharmonicity, Ej, and Ec,...) from the Hamiltonian usning LOM\n",
    "\n",
    "'''\n",
    "from qiskit_metal.analyses.quantization import LOManalysis\n",
    "c2 = LOManalysis(design, \"q3d\")\n",
    "q3d = c2.sim.renderer\n",
    "q3d.start()\n",
    "q3d.activate_ansys_design(\"TransmonResonator_q3d\", 'capacitive')\n",
    "q3d.render_design(['Q4','Q5','open1i','spiralm1','spiralm2','spiralS1','spiralS2','JJ2','cpw1','cpw2','cpw4','cpw5','cpw6','cpw7'], [])\n",
    "q3d.analyze_setup(\"Setup\")\n",
    "c2.sim.capacitance_matrix, c2.sim.units = q3d.get_capacitance_matrix()\n",
    "c2.sim.capacitance_all_passes, _ = q3d.get_capacitance_all_passes()\n",
    "c2.sim.capacitance_matrix \n",
    "'''"
   ]
  },
  {
   "cell_type": "code",
   "execution_count": null,
   "id": "ad117986-8d28-40ae-b33a-ca0df20d20a7",
   "metadata": {},
   "outputs": [],
   "source": [
    "'''\n",
    "c2.setup.junctions=Dict(Lj=12.31, Cj=2)\n",
    "c2.setup.freq_readout = 7.0\n",
    "c2.setup.freq_bus = []\n",
    "\n",
    "c2.run_lom()\n",
    "c2.lumped_oscillator_all\n",
    "\n",
    "'''"
   ]
  },
  {
   "cell_type": "code",
   "execution_count": null,
   "id": "f6757616-00b3-4939-9427-875860a36245",
   "metadata": {},
   "outputs": [],
   "source": [
    "'''\n",
    "c2.plot_convergence();\n",
    "c2.plot_convergence_chi()\n",
    "'''"
   ]
  },
  {
   "cell_type": "markdown",
   "id": "380f99cd-8bcb-4b79-ade3-b84fd265a20c",
   "metadata": {},
   "source": [
    "EPR"
   ]
  },
  {
   "cell_type": "code",
   "execution_count": null,
   "id": "44a44ff2-7c55-4fb8-a39b-2b33421a1cdb",
   "metadata": {},
   "outputs": [],
   "source": [
    "# Extract eigenmode by sweeping Inductance values from the Hamiltonian usning EPR\n",
    "'''\n",
    "from qiskit_metal.analyses.quantization import EPRanalysis\n",
    "eig_qres = EPRanalysis(design, \"hfss\")\n",
    "hfss = eig_qres.sim.renderer\n",
    "hfss.start()\n",
    "hfss.activate_ansys_design(\"TransmonReadout\", 'eigenmode')  # use new_ansys_design() to force creation of a blank design\n",
    "q3d.render_design(['Q4','Q5','open1i','spiralm1','spiralm2','spiralS1','spiralS2','JJ2','cpw1','cpw2','cpw4','cpw5','cpw6','cpw7'], [])\n",
    "'''\n"
   ]
  },
  {
   "cell_type": "code",
   "execution_count": null,
   "id": "6d260230-8ee8-47f5-9a72-7d5159c28be7",
   "metadata": {},
   "outputs": [],
   "source": [
    "# Analysis properties\n",
    "''''\n",
    "setup = hfss.pinfo.setup\n",
    "setup.n_modes = 2\n",
    "setup.passes = 10\n",
    "print(f\"\"\"\n",
    "Number of eigenmodes to find             = {setup.n_modes}\n",
    "Number of simulation passes              = {setup.passes}\n",
    "Convergence freq max delta percent diff  = {setup.delta_f}\n",
    "\"\"\")\n",
    "\n",
    "pinfo = hfss.pinfo\n",
    "pinfo.design.set_variable('Lj', '10 nH')\n",
    "pinfo.design.set_variable('Cj', '0 fF')\n",
    "\n",
    "setup.analyze()\n",
    "'''"
   ]
  },
  {
   "cell_type": "code",
   "execution_count": null,
   "id": "1bd712fb-5ec6-420a-b98e-276c7c032f6d",
   "metadata": {},
   "outputs": [],
   "source": [
    "'''\n",
    "eig_qres.sim.convergence_t, eig_qres.sim.convergence_f, _ = hfss.get_convergences()\n",
    "eig_qres.sim.plot_convergences()\n",
    "hfss.modeler._modeler.ShowWindow()\n",
    "hfss.plot_fields('main')\n",
    "hfss.save_screenshot()\n",
    "'''"
   ]
  },
  {
   "cell_type": "code",
   "execution_count": null,
   "id": "20b7762a-ec7f-4767-b05f-6c4dee4a0e13",
   "metadata": {},
   "outputs": [],
   "source": [
    "# hfss.clear_fields(['Mag_E1'])\n"
   ]
  }
 ],
 "metadata": {
  "kernelspec": {
   "display_name": "Python 3 (ipykernel)",
   "language": "python",
   "name": "python3"
  },
  "language_info": {
   "codemirror_mode": {
    "name": "ipython",
    "version": 3
   },
   "file_extension": ".py",
   "mimetype": "text/x-python",
   "name": "python",
   "nbconvert_exporter": "python",
   "pygments_lexer": "ipython3",
   "version": "3.9.19"
  }
 },
 "nbformat": 4,
 "nbformat_minor": 5
}
